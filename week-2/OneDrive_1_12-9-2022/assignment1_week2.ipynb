{
 "cells": [
  {
   "cell_type": "markdown",
   "metadata": {},
   "source": [
    "**Week 2 - Assigment 1**"
   ]
  },
  {
   "cell_type": "code",
   "execution_count": null,
   "metadata": {},
   "outputs": [],
   "source": [
    "## join array elements\n",
    "\n",
    "grades1 = [10, 20, 40, 67.7]\n",
    "grades2 = [100, 25.0, 40.5, 6.7]\n",
    "expected_result = [10, 20, 40, 67.7, 100, 25.0, 40.5, 6.7]\n",
    "result = []\n",
    "\n",
    "assert result == expected_result, f\"actual result {result} does not match expected result {expected_result}\""
   ]
  },
  {
   "cell_type": "code",
   "execution_count": null,
   "metadata": {},
   "outputs": [],
   "source": [
    "## sum array elements\n",
    "\n",
    "grades1 = [10, 20, 40, 67.7]\n",
    "grades2 = [100, 25.0, 40.5, 6.7]\n",
    "expected_result = [110, 45.0, 80.5, 74.4]\n",
    "\n",
    "\n",
    "result = []\n",
    "assert result == expected_result, f\"actual result {result} does not match expected result {expected_result}\""
   ]
  },
  {
   "cell_type": "code",
   "execution_count": null,
   "metadata": {},
   "outputs": [],
   "source": [
    "# With arithmetic manipulation, we can convert current data to the way we want it to be. \n",
    "# Here's a real-world problem I face - I moved down to the United States about 6 years ago from Canada. \n",
    "# In Canada we use celciu for temperatures, and most of the time it has to be converted to the US system which uses farenheit. \n",
    "# Convert a number of farenheit values, say the weather forecase, to celcius\n",
    "# And the formula for conversion is ((°F − 32) × 5/9 = °C)\n",
    "farenheit = [0,-10,-5,-15,0]\n",
    "celcius = []\n",
    "expected_celcius = [-17.22222222222222, -22.77777777777778, -20.0, -25.555555555555557, -17.22222222222222]\n",
    "assert celcius == expected_celcius, f\"actual result {celcius} does not match expected result {expected_celcius}\"\n",
    "\n",
    "# Now, create an array with random values of typical `Ann Arbor winter` farenheit values with sample_size specified by the user\n",
    "# then convert its values to celcius\n",
    "# result list must not contain duplicates, and celcius numbers must be floating point with 3 decimal places\n",
    "celcius = []\n",
    "expected_celcius = []\n"
   ]
  },
  {
   "cell_type": "code",
   "execution_count": null,
   "metadata": {},
   "outputs": [],
   "source": [
    "## Now, we want to get a boolean array to check celcius degrees that are greater than -20 degrees\n",
    "\n",
    "farenheit = [0,-10,-5,-15,0]\n",
    "celcius_gt_20 = []\n",
    "expected_celcius_gt_20 = [False, True, False, True, False]\n",
    "assert celcius_gt_20 == expected_celcius_gt_20, f\"actual result {celcius_gt_20} does not match expected result {expected_celcius_gt_20}\"\n"
   ]
  },
  {
   "cell_type": "code",
   "execution_count": null,
   "metadata": {},
   "outputs": [],
   "source": [
    "## Now, we want to get a boolean array to check celcius degrees that are greater than -20 degrees\n",
    "\n",
    "farenheit = [0,-10,-5,-15,0]\n",
    "celcius_gt_20 = []\n",
    "expected_celcius_gt_20 = [False, True, False, True, False]\n",
    "assert celcius_gt_20 == expected_celcius_gt_20, f\"actual result {celcius_gt_20} does not match expected result {expected_celcius_gt_20}\"\n"
   ]
  },
  {
   "cell_type": "code",
   "execution_count": null,
   "metadata": {},
   "outputs": [],
   "source": [
    "## We've held music festivals, every other year since 1970 until now - 2022. How would we list the years?"
   ]
  },
  {
   "cell_type": "code",
   "execution_count": null,
   "metadata": {},
   "outputs": [],
   "source": [
    "## A fortune-teller robot generate random lotto ticket suggestions for its customers. \n",
    "## How would you help the ronot pick five random numbers between 1 and 53."
   ]
  },
  {
   "cell_type": "code",
   "execution_count": null,
   "metadata": {},
   "outputs": [],
   "source": [
    "## Print this menu prices in the following format\n",
    "##  item 1: $0.50\n",
    "##  item 2: $1.50\n",
    "##  item 3: $2.50\n",
    "menu_prices  = {\n",
    "    'item 1': 0.50,\n",
    "    'item 2': 1.50,\n",
    "    'item 3': 2.50\n",
    "}\n"
   ]
  },
  {
   "cell_type": "code",
   "execution_count": null,
   "metadata": {},
   "outputs": [],
   "source": [
    "## Create an console interface for ordering from a menu, \n",
    "## it will let customers order and add as many menu items as they want\n",
    "menu = {}\n",
    "orders = []\n",
    "# Add the user what they want to order as: what would you like to order? (Q to quit)\n",
    "# while the order is not equal for Q for quit, find the order and add it to the list if it exists\n",
    "# else let the customer know that the `Menu item does not exist`    \n",
    "# See if the customer wants to order anything else `Anything else? (Q to Quit)`"
   ]
  },
  {
   "cell_type": "code",
   "execution_count": null,
   "metadata": {},
   "outputs": [],
   "source": [
    "## We have a problem, we run out of `Cheese sticks` in the menu, we'll need to let the customer know\n",
    "## if the order is `Cheese sticks` print `We're all out of that!` and skip the rest of the code"
   ]
  },
  {
   "cell_type": "code",
   "execution_count": null,
   "metadata": {},
   "outputs": [],
   "source": [
    "## We want to create a \"guess the number\" game for our fortune-teller robot. \n",
    "## If you guess the random number between 1 and 10, you win a crystal ball!\n",
    "\n",
    "# There is some code that's been written for us \n",
    "# -- getting the random number the user needs to guess, \n",
    "# asking the user to guess a number, and printing 'You win!' if they win. \n",
    "# We need to write the code to compare the users response to num.\n",
    "import random\n",
    "\n",
    "num = random.randint(1, 10)\n",
    "\n",
    "guess = int(input('Guess a number between 1 and 10'))\n",
    "# YOUR CODE HERE\n",
    "\n",
    "\n",
    "print('You win!') "
   ]
  },
  {
   "cell_type": "code",
   "execution_count": null,
   "metadata": {},
   "outputs": [],
   "source": [
    "## Now our fortune-teller robot has a guess the number game — if you guess the random number between 1 and 10, you win a crystal ball! \n",
    "## But the game lets the user guess 10 times, so they always win... #fail. \n",
    "## Let's fix the game so they can only guess three times.\n",
    "## After the while loop ends, check if guess is equal to num, then print 'You win!'. Otherwise, print 'You lose! The number was ' and also print num."
   ]
  }
 ],
 "metadata": {
  "kernelspec": {
   "display_name": "Python 3.9.13 64-bit",
   "language": "python",
   "name": "python3"
  },
  "language_info": {
   "codemirror_mode": {
    "name": "ipython",
    "version": 3
   },
   "file_extension": ".py",
   "mimetype": "text/x-python",
   "name": "python",
   "nbconvert_exporter": "python",
   "pygments_lexer": "ipython3",
   "version": "3.9.13"
  },
  "orig_nbformat": 4,
  "vscode": {
   "interpreter": {
    "hash": "aee8b7b246df8f9039afb4144a1f6fd8d2ca17a180786b69acc140d282b71a49"
   }
  }
 },
 "nbformat": 4,
 "nbformat_minor": 2
}
