{
 "cells": [
  {
   "cell_type": "markdown",
   "metadata": {
    "pycharm": {
     "name": "#%% md\n"
    }
   },
   "source": [
    "**Week 2 - Assigment 1**"
   ]
  },
  {
   "cell_type": "code",
   "execution_count": 5,
   "metadata": {
    "pycharm": {
     "name": "#%%\n"
    }
   },
   "outputs": [
    {
     "name": "stdout",
     "output_type": "stream",
     "text": [
      "[10, 20, 40, 67.7, 100, 25.0, 40.5, 6.7]\n"
     ]
    }
   ],
   "source": [
    "## join array elements\n",
    "\n",
    "grades1 = [10, 20, 40, 67.7]\n",
    "grades2 = [100, 25.0, 40.5, 6.7]\n",
    "expected_result = [10, 20, 40, 67.7, 100, 25.0, 40.5, 6.7]\n",
    "result = grades1 + grades2\n",
    "print(result)\n",
    "assert result == expected_result, f\"actual result {result} does not match expected result {expected_result}\""
   ]
  },
  {
   "cell_type": "code",
   "execution_count": 7,
   "metadata": {
    "pycharm": {
     "name": "#%%\n"
    }
   },
   "outputs": [],
   "source": [
    "## sum array elements\n",
    "\n",
    "grades1 = [10, 20, 40, 67.7]\n",
    "grades2 = [100, 25.0, 40.5, 6.7]\n",
    "expected_result = [110, 45.0, 80.5, 74.4]\n",
    "result = []\n",
    "for i in range(len(grades1)):\n",
    "\tresult.append(grades1[i]+grades2[i])\n",
    "assert result == expected_result, f\"actual result {result} does not match expected result {expected_result}\""
   ]
  },
  {
   "cell_type": "code",
   "execution_count": 12,
   "metadata": {
    "pycharm": {
     "name": "#%%\n"
    }
   },
   "outputs": [],
   "source": [
    "# With arithmetic manipulation, we can convert current data to the way we want it to be. \n",
    "# Here's a real-world problem I face - I moved down to the United States about 6 years ago from Canada. \n",
    "# In Canada we use celciu for temperatures, and most of the time it has to be converted to the US system which uses farenheit. \n",
    "# Convert a number of farenheit values, say the weather forecase, to celcius\n",
    "# And the formula for conversion is ((°F − 32) × 5/9 = °C)\n",
    "farenheit = [0,-10,-5,-15,0]\n",
    "celcius = []\n",
    "def convercion(Temp):\n",
    "    resultado = ((Temp-32)*(5/9))\n",
    "    return(resultado)\n",
    "for i in range(len(farenheit)):\n",
    "    celcius.append(convercion(farenheit[i]))\n",
    "\n",
    "expected_celcius = [-17.77777777777778, -23.333333333333336, -20.555555555555557, -26.11111111111111, -17.77777777777778]\n",
    "assert celcius == expected_celcius, f\"actual result {celcius} does not match expected result {expected_celcius}\"\n",
    "\n",
    "# Now, create an array with random values of typical `Ann Arbor winter` farenheit values with sample_size specified by the user\n",
    "# then convert its values to celcius\n",
    "# result list must not contain duplicates, and celcius numbers must be floating point with 3 decimal places\n",
    "celcius = []\n",
    "expected_celcius = []\n"
   ]
  },
  {
   "cell_type": "code",
   "execution_count": 17,
   "metadata": {
    "pycharm": {
     "name": "#%%\n"
    }
   },
   "outputs": [],
   "source": [
    "## Now, we want to get a boolean array to check celcius degrees that are greater than -20 degrees\n",
    "\n",
    "farenheit = [0,-10,-5,-15,0]\n",
    "celcius_gt_20 = []\n",
    "def comparacion(temp):\n",
    "    if temp > -20:\n",
    "        return True\n",
    "    else: return False\n",
    "for i in range(len(farenheit)):\n",
    "    celcius_gt_20.append(comparacion(convercion(farenheit[i])))\n",
    "\n",
    "expected_celcius_gt_20 = [True, False, False, False, True]\n",
    "assert celcius_gt_20 == expected_celcius_gt_20, f\"actual result {celcius_gt_20} does not match expected result {expected_celcius_gt_20}\"\n"
   ]
  },
  {
   "cell_type": "code",
   "execution_count": 19,
   "metadata": {
    "pycharm": {
     "name": "#%%\n"
    }
   },
   "outputs": [],
   "source": [
    "## Now, we want to get a boolean array to check celcius degrees that are greater than -20 degrees\n",
    "\n",
    "farenheit = [0,-10,-5,-15,0]\n",
    "celcius_gt_20 = []\n",
    "for i in range(len(farenheit)):\n",
    "    celcius_gt_20.append(comparacion(convercion(farenheit[i])))\n",
    "expected_celcius_gt_20 = [True, False, False, False, True]\n",
    "assert celcius_gt_20 == expected_celcius_gt_20, f\"actual result {celcius_gt_20} does not match expected result {expected_celcius_gt_20}\"\n"
   ]
  },
  {
   "cell_type": "code",
   "execution_count": 21,
   "metadata": {
    "pycharm": {
     "name": "#%%\n"
    }
   },
   "outputs": [
    {
     "name": "stdout",
     "output_type": "stream",
     "text": [
      "[1970, 1972, 1974, 1976, 1978, 1980, 1982, 1984, 1986, 1988, 1990, 1992, 1994, 1996, 1998, 2000, 2002, 2004, 2006, 2008, 2010, 2012, 2014, 2016, 2018, 2020, 2022]\n"
     ]
    }
   ],
   "source": [
    "## We've held music festivals, every other year since 1970 until now - 2022. How would we list the years?\n",
    "festival_Music=[]\n",
    "for i in range(1970,2024,2):\n",
    "    festival_Music.append(i)\n",
    "print(festival_Music)\n",
    "\n",
    "\n"
   ]
  },
  {
   "cell_type": "code",
   "execution_count": 25,
   "metadata": {
    "pycharm": {
     "name": "#%%\n"
    }
   },
   "outputs": [
    {
     "name": "stdout",
     "output_type": "stream",
     "text": [
      "[6, 44, 36, 2, 35]\n"
     ]
    }
   ],
   "source": [
    "## A fortune-teller robot generate random lotto ticket suggestions for its customers. \n",
    "## How would you help the ronot pick five random numbers between 1 and 53.\n",
    "import random\n",
    "tickets = []\n",
    "for i in range(5):\n",
    "    tickets.append(random.randint(1, 53))\n",
    "print(tickets)"
   ]
  },
  {
   "cell_type": "code",
   "execution_count": 27,
   "metadata": {
    "pycharm": {
     "name": "#%%\n"
    }
   },
   "outputs": [
    {
     "name": "stdout",
     "output_type": "stream",
     "text": [
      "item 1: $0.50\n",
      "item 2: $1.50\n",
      "item 3: $2.50\n",
      "{'item 1': 0.5, 'item 2': 1.5, 'item 3': 2.5}\n"
     ]
    }
   ],
   "source": [
    "## Print this menu prices in the following format\n",
    "##  item 1: $0.50\n",
    "##  item 2: $1.50\n",
    "##  item 3: $2.50\n",
    "menu_prices  = {\n",
    "    'item 1': 0.50,\n",
    "    'item 2': 1.50,\n",
    "    'item 3': 2.50\n",
    "}\n",
    "for menu in menu_prices:\n",
    "    print(f\"{menu}: ${'{0:.2f}'.format(menu_prices[menu])}\")\n",
    "print(menu_prices)"
   ]
  },
  {
   "cell_type": "code",
   "execution_count": 1,
   "metadata": {
    "pycharm": {
     "name": "#%%\n"
    }
   },
   "outputs": [
    {
     "name": "stdout",
     "output_type": "stream",
     "text": [
      "Muchas gracias por elegirnos a nosotros\n",
      "1. Hamburguesa: $3.5\n",
      "2. Papas: $1.5\n",
      "3. Refresco: $1.5\n",
      "None\n",
      "['Hamburguesa', 'Refresco', 'Papas']\n"
     ]
    }
   ],
   "source": [
    "## Create an console interface for ordering from a menu, \n",
    "## it will let customers order and add as many menu items as they want\n",
    "productos = {\n",
    "    'Hamburguesa': 3.5,\n",
    "    'Papas':1.5, \n",
    "    'Refresco':1.5\n",
    "}\n",
    "orders = []\n",
    "state = True\n",
    "def ver_Menu():\n",
    "    i=1\n",
    "    for producto in productos:\n",
    "        print(f\"{i}. {producto}: ${productos[producto]}\")\n",
    "        i+=1\n",
    "print('Muchas gracias por elegirnos a nosotros')\n",
    "order = input('Presione m para ver el menu o q para salir')\n",
    "while(state):\n",
    "    if order == 'q':\n",
    "        state = False\n",
    "    elif order == 'm': \n",
    "        menu = ver_Menu()\n",
    "        print(menu)\n",
    "        order = input('seleccione del 1 al 3 sus productos')\n",
    "    elif order == '1': \n",
    "        orders.append('Hamburguesa')\n",
    "        order= input('Si quiere mas elementos seleccione del 1 al 3 y q para terminar')\n",
    "    elif order == '2': \n",
    "        orders.append('Papas')\n",
    "        order= input('Si quiere mas elementos seleccione del 1 al 3 y q para terminar') \n",
    "    elif order == '3': \n",
    "        orders.append('Refresco')\n",
    "        order= input('Si quiere mas elementos seleccione del 1 al 3 y q para terminar')    \n",
    "    else:\n",
    "        print('Este producto no existe')\n",
    "        order = input('Algo mas?(q para salir)')\n",
    "print(orders)\n",
    "\n",
    "# Add the user what they want to order as: what would you like to order? (Q to quit)\n",
    "# while the order is not equal for Q for quit, find the order and add it to the list if it exists\n",
    "# else let the customer know that the `Menu item does not exist`    \n",
    "# See if the customer wants to order anything else `Anything else? (Q to Quit)`"
   ]
  },
  {
   "cell_type": "code",
   "execution_count": null,
   "metadata": {
    "pycharm": {
     "name": "#%%\n"
    }
   },
   "outputs": [],
   "source": [
    "## We have a problem, we run out of `Cheese sticks` in the menu, we'll need to let the customer know\n",
    "## if the order is `Cheese sticks` print `We're all out of that!` and skip the rest of the code\n",
    "productos = {\n",
    "    'Hamburguesa': 3.5,\n",
    "    'Papas':1.5, \n",
    "    'Refresco':1.5,\n",
    "    'Cheese sticks': 2.5\n",
    "}\n",
    "orders = []\n",
    "state = True\n",
    "def ver_Menu():\n",
    "    i=1\n",
    "    for producto in productos:\n",
    "        print(f\"{i}. {producto}: ${productos[producto]}\")\n",
    "        i+=1\n",
    "print('Muchas gracias por elegirnos a nosotros')\n",
    "order = input('Presione m para ver el menu o q para salir')\n",
    "while(state):\n",
    "    if order == 'q':\n",
    "        state = False\n",
    "    elif order == 'm': \n",
    "        menu = ver_Menu()\n",
    "        print(menu)\n",
    "        order = input('seleccione del 1 al 3 sus productos')\n",
    "    elif order == '1': \n",
    "        orders.append('Hamburguesa')\n",
    "        order= input('Si quiere mas elementos seleccione del 1 al 3 y q para terminar')\n",
    "    elif order == '2': \n",
    "        orders.append('Papas')\n",
    "        order= input('Si quiere mas elementos seleccione del 1 al 3 y q para terminar') \n",
    "    elif order == '3': \n",
    "        orders.append('Refresco')\n",
    "        order= input('Si quiere mas elementos seleccione del 1 al 3 y q para terminar')    \n",
    "    elif order == '4': \n",
    "        print('El producto esta fuera de stock')\n",
    "        order= input('Si quiere mas elementos seleccione del 1 al 3 y q para terminar')\n",
    "    else:\n",
    "        print('Este producto no existe')\n",
    "        order = input('Algo mas?(q para salir)')\n",
    "print(orders)"
   ]
  },
  {
   "cell_type": "code",
   "execution_count": 3,
   "metadata": {
    "pycharm": {
     "name": "#%%\n"
    }
   },
   "outputs": [
    {
     "name": "stdout",
     "output_type": "stream",
     "text": [
      "You Lose!\n"
     ]
    }
   ],
   "source": [
    "## We want to create a \"guess the number\" game for our fortune-teller robot. \n",
    "## If you guess the random number between 1 and 10, you win a crystal ball!\n",
    "\n",
    "# There is some code that's been written for us \n",
    "# -- getting the random number the user needs to guess, \n",
    "# asking the user to guess a number, and printing 'You win!' if they win. \n",
    "# We need to write the code to compare the users response to num.\n",
    "import random\n",
    "\n",
    "num = random.randint(1, 10)\n",
    "guess = int(input('Guess a number between 1 and 10'))\n",
    "if guess == num:\n",
    "    print(\"You Win!\")\n",
    "else:\n",
    "    print(\"You Lose!\")\n",
    "\n"
   ]
  },
  {
   "cell_type": "code",
   "execution_count": 4,
   "metadata": {
    "pycharm": {
     "name": "#%%\n"
    }
   },
   "outputs": [
    {
     "name": "stdout",
     "output_type": "stream",
     "text": [
      "3\n",
      "You Win!\n"
     ]
    }
   ],
   "source": [
    "## Now our fortune-teller robot has a guess the number game — if you guess the random number between 1 and 10, you win a crystal ball! \n",
    "## But the game lets the user guess 10 times, so they always win... #fail. \n",
    "## Let's fix the game so they can only guess three times.\n",
    "## After the while loop ends, check if guess is equal to num, then print 'You win!'. Otherwise, print 'You lose! The number was ' and also print num.\n",
    "import random\n",
    "\n",
    "num = random.randint(1, 10)\n",
    "print(num)\n",
    "case_game = 0\n",
    "games = []\n",
    "while case_game < 3:\n",
    "    guess = int(input('Guess a number between 1 and 10'))\n",
    "    games.append(guess)\n",
    "    case_game += 1\n",
    "\n",
    "if num in games:\n",
    "    print(\"You Win!\")\n",
    "else:\n",
    "    print(\"You Lose!\")"
   ]
  }
 ],
 "metadata": {
  "kernelspec": {
   "display_name": "Python 3.10.5 ('jala')",
   "language": "python",
   "name": "python3"
  },
  "language_info": {
   "codemirror_mode": {
    "name": "ipython",
    "version": 3
   },
   "file_extension": ".py",
   "mimetype": "text/x-python",
   "name": "python",
   "nbconvert_exporter": "python",
   "pygments_lexer": "ipython3",
   "version": "3.10.5"
  },
  "orig_nbformat": 4,
  "vscode": {
   "interpreter": {
    "hash": "e0dae00298bcf5319cc211a5a969acefa5afb19954cc3c4a44aa0160b6d6c11c"
   }
  }
 },
 "nbformat": 4,
 "nbformat_minor": 2
}
