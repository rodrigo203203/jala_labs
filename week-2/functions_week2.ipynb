{
 "cells": [
  {
   "cell_type": "markdown",
   "metadata": {},
   "source": [
    "**Week 2 - Functions**"
   ]
  },
  {
   "cell_type": "code",
   "execution_count": null,
   "metadata": {},
   "outputs": [],
   "source": [
    "# calculate the average price\n",
    "total = 0\n",
    "prices = [2.50, 5, 6, 10.50]\n",
    "average = 0"
   ]
  },
  {
   "cell_type": "code",
   "execution_count": null,
   "metadata": {},
   "outputs": [],
   "source": [
    "# calculate the average daily customers\n",
    "total = 0\n",
    "prices = [29, 21, 55, 5, 10, 14, 12]\n",
    "average = 0"
   ]
  },
  {
   "cell_type": "code",
   "execution_count": null,
   "metadata": {},
   "outputs": [],
   "source": [
    "# calculate average daily sales"
   ]
  },
  {
   "cell_type": "markdown",
   "metadata": {},
   "source": [
    "**Problem: We are repeating a lot of code**\n",
    "wouldn't it be great to have just one piece of code that can average anythin we ask it to?\n",
    "**Funtions** perform specific tasks"
   ]
  },
  {
   "cell_type": "markdown",
   "metadata": {},
   "source": [
    "**Making our own functions**\n",
    "1. What is the function name?\n",
    "2. What data do we send into the function?\n",
    "3. What data comes out of the funtion?"
   ]
  },
  {
   "cell_type": "code",
   "execution_count": null,
   "metadata": {},
   "outputs": [],
   "source": [
    "## we want a function that can average a list of numbers\n",
    "## we want to use our function for getting the average for other list of numbers, not just prices \n",
    "## for example we can use to pass in a list of daily sales  \n",
    "# therefore name our parameters to be more general"
   ]
  },
  {
   "cell_type": "markdown",
   "metadata": {},
   "source": [
    "**Calling functions**\n",
    "**Functions** don't run until we call them"
   ]
  },
  {
   "cell_type": "code",
   "execution_count": null,
   "metadata": {},
   "outputs": [],
   "source": [
    "## calling a funtions\n",
    "numbers = [1, 2, 3, 4, 5]\n",
    "avg = average(numbers)"
   ]
  },
  {
   "cell_type": "code",
   "execution_count": null,
   "metadata": {},
   "outputs": [],
   "source": [
    "# use our function on  prices\n",
    "prices = [2.50, 3, 4.5, 5]\n",
    "result = average(prices)\n",
    "print(result)"
   ]
  },
  {
   "cell_type": "code",
   "execution_count": null,
   "metadata": {},
   "outputs": [],
   "source": [
    "## A fortune-teller robot wants us to create a function for generating lottery ticket numbers. \n",
    "## The code for generating lottery ticket numbers was already created, it prints out the numbers one by one\n",
    "import random\n",
    "for i in range(5):\n",
    "    print(random.randint(1, 53)) \n"
   ]
  },
  {
   "cell_type": "code",
   "execution_count": null,
   "metadata": {},
   "outputs": [],
   "source": [
    "## Instead of printing out the numbers one by one, our function will return a list of the numbers.\n",
    "import random\n",
    "def lotto_numbers():\n",
    "    # code in the function goes here\n",
    "    pass"
   ]
  },
  {
   "cell_type": "code",
   "execution_count": null,
   "metadata": {},
   "outputs": [],
   "source": [
    "## main part of our program\n",
    "# calling lotto_numbers\n",
    "numbers = lotto_numbers()\n",
    "assert numbers and len(numbers) != 0, f'{numbers} must not be None or empty'\n",
    "print(numbers)"
   ]
  },
  {
   "cell_type": "markdown",
   "metadata": {},
   "source": [
    "We can think of the code that calls or executes our function as the **main** part of our program\n",
    "To be more organized, we can take our **main** program code and put it in a function called **main**\n",
    "then the only piece of code that is not in a function in our file will be one single call to main to kick off our program. This is a best practice in Python"
   ]
  },
  {
   "cell_type": "code",
   "execution_count": null,
   "metadata": {},
   "outputs": [],
   "source": [
    "## organize our main code into a main function\n",
    "\n",
    "def average(numbers):\n",
    "    pass\n",
    "\n",
    "def main():\n",
    "    prices = [29, 21, 55, 10]\n",
    "    result = average(prices)\n",
    "    print(result)\n",
    "\n",
    "# all of execution starts here\n",
    "main()"
   ]
  },
  {
   "cell_type": "markdown",
   "metadata": {},
   "source": [
    "You need to be aware of **Scope**\n",
    "Scope determines what parts of your program can access certain variables\n",
    "If you declare a variable inside a function it only exists within that function or it has local scope\n",
    "Variables that are declared outside of a function have global scope, global scope means they can be accessed anywhere inside of the script\n",
    "But, variables still can't be used until they're declared."
   ]
  },
  {
   "cell_type": "markdown",
   "metadata": {},
   "source": [
    "**Functions should be used for any chunck of code that has specific purpose.**"
   ]
  },
  {
   "cell_type": "markdown",
   "metadata": {},
   "source": [
    "Things we want to do know\n",
    "1. Print or display the menu\n",
    "2. Take an order\n",
    "3. Calculate the total bill"
   ]
  },
  {
   "cell_type": "code",
   "execution_count": null,
   "metadata": {},
   "outputs": [],
   "source": [
    "def get_order(menu):\n",
    "    pass\n",
    "\n",
    "## print the menu, prices with 2 decimal numbers\n",
    "def print_menu(menu):\n",
    "    pass\n",
    "\n",
    "## we need the list of orders and the menu to look up the price\n",
    "## sum up the total price and return the total bill\n",
    "def bill_total(orders, menu):\n",
    "    pass\n",
    "\n",
    "def main():\n",
    "    menu = { 'dish 1': 0.50, 'dish 2': 1.50, 'dish 3': 5 }\n",
    "    print(menu)\n",
    "    orders = get_order(menu)\n",
    "    total = bill_total(orders, menu)\n",
    "    print(\"You ordered: \", orders, \"your total is: $\", format(total, '.2f', sep=''))\n",
    "    \n",
    "\n",
    "main()"
   ]
  },
  {
   "cell_type": "markdown",
   "metadata": {},
   "source": [
    "**Guess the Number Function**"
   ]
  },
  {
   "cell_type": "code",
   "execution_count": null,
   "metadata": {},
   "outputs": [],
   "source": [
    "## The fortune-teller robot wants to be able to easily generate lotto numbers and also play the guess the number game. \n",
    "# We'll improve the robot's program by moving the code we wrote previously for the guess the number game into its own function.\n",
    "\n",
    "import random\n",
    "    \n",
    "def guessing_game():\n",
    "    pass\n",
    "\n",
    "def lotto_numbers():\n",
    "    pass\n",
    "  \n",
    "def main():\n",
    "    numbers = lotto_numbers()\n",
    "    print('Lotto numbers: ', numbers)\n",
    "    guessing_game()\n",
    "    \n",
    "main()"
   ]
  },
  {
   "cell_type": "markdown",
   "metadata": {},
   "source": [
    "**User's Choice**\n",
    "1. At the beginning of main(), let's use input() to ask user whether they want to play the game or get lottery numbers. Ask them, 'Do you want to get lottery numbers (1) or play the game (2) or quit (Q)?' and assign it to the variable answer.\n",
    "2. Now, write a conditional to check if the variable answer is 1, and put the first set of code that grabs and prints lotto_numbers() inside of a block for that conditional.\n",
    "3. Next, expand upon that first conditional with an elif that checks if the variable answer is 2, and nest the guessing_game() function call inside of that elif.\n",
    "4. Finally, add an else condition that prints 'Toodles!' -- this will run if neither 1 or 2 is entered by the user."
   ]
  },
  {
   "cell_type": "code",
   "execution_count": null,
   "metadata": {},
   "outputs": [],
   "source": [
    "## We want the fortune-teller robot to be able to ask the user if they want to play the guess the number game or if they want lottery numbers.\n",
    "\n",
    "import random\n",
    "    \n",
    "def guessing_game():\n",
    "    pass\n",
    "\n",
    "def lotto_numbers():\n",
    "    pass\n",
    "  \n",
    "def main():\n",
    "    pass\n",
    "    \n",
    "main()"
   ]
  }
 ],
 "metadata": {
  "kernelspec": {
   "display_name": "Python 3.9.13 64-bit",
   "language": "python",
   "name": "python3"
  },
  "language_info": {
   "codemirror_mode": {
    "name": "ipython",
    "version": 3
   },
   "file_extension": ".py",
   "mimetype": "text/x-python",
   "name": "python",
   "nbconvert_exporter": "python",
   "pygments_lexer": "ipython3",
   "version": "3.9.13"
  },
  "orig_nbformat": 4,
  "vscode": {
   "interpreter": {
    "hash": "aee8b7b246df8f9039afb4144a1f6fd8d2ca17a180786b69acc140d282b71a49"
   }
  }
 },
 "nbformat": 4,
 "nbformat_minor": 2
}
